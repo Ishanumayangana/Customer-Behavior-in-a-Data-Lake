{
 "cells": [
  {
   "cell_type": "code",
   "execution_count": 1,
   "id": "ca46c9db",
   "metadata": {},
   "outputs": [
    {
     "name": "stdout",
     "output_type": "stream",
     "text": [
      "Requirement already satisfied: pandas in c:\\users\\hp\\anaconda3\\lib\\site-packages (2.0.3)\n",
      "Requirement already satisfied: python-dateutil>=2.8.2 in c:\\users\\hp\\anaconda3\\lib\\site-packages (from pandas) (2.8.2)\n",
      "Requirement already satisfied: pytz>=2020.1 in c:\\users\\hp\\anaconda3\\lib\\site-packages (from pandas) (2023.3.post1)\n",
      "Requirement already satisfied: tzdata>=2022.1 in c:\\users\\hp\\anaconda3\\lib\\site-packages (from pandas) (2023.3)\n",
      "Requirement already satisfied: numpy>=1.21.0 in c:\\users\\hp\\anaconda3\\lib\\site-packages (from pandas) (1.24.3)\n",
      "Requirement already satisfied: six>=1.5 in c:\\users\\hp\\anaconda3\\lib\\site-packages (from python-dateutil>=2.8.2->pandas) (1.16.0)\n",
      "Note: you may need to restart the kernel to use updated packages.\n"
     ]
    }
   ],
   "source": [
    "pip install pandas"
   ]
  },
  {
   "cell_type": "code",
   "execution_count": 2,
   "id": "93eb6b1d",
   "metadata": {},
   "outputs": [
    {
     "name": "stdout",
     "output_type": "stream",
     "text": [
      "Dataset loaded successfully!\n"
     ]
    }
   ],
   "source": [
    "import pandas as pd\n",
    "\n",
    "file_path = \"customer_data.csv\"  \n",
    "customer_data = pd.read_csv(file_path)\n",
    "\n",
    "print(\"Dataset loaded successfully!\")\n"
   ]
  },
  {
   "cell_type": "code",
   "execution_count": 3,
   "id": "437ef3bc",
   "metadata": {},
   "outputs": [
    {
     "name": "stdout",
     "output_type": "stream",
     "text": [
      "   CustomerID  Gender  Age  ProductID  PurchaseAmount\n",
      "0           1  Female   28        101            42.5\n",
      "1           2    Male   35        102            63.0\n",
      "2           3  Female   45        103            17.8\n",
      "3           4    Male   32        104            25.2\n",
      "4           5  Female   22        105           157.5\n"
     ]
    }
   ],
   "source": [
    "print(customer_data.head())\n",
    "\n"
   ]
  },
  {
   "cell_type": "code",
   "execution_count": 4,
   "id": "8a805071",
   "metadata": {},
   "outputs": [
    {
     "name": "stdout",
     "output_type": "stream",
     "text": [
      "Total rows: 10\n",
      "Total columns: 5\n"
     ]
    }
   ],
   "source": [
    "print(f\"Total rows: {customer_data.shape[0]}\")\n",
    "print(f\"Total columns: {customer_data.shape[1]}\")\n"
   ]
  },
  {
   "cell_type": "code",
   "execution_count": 5,
   "id": "625ef1f8",
   "metadata": {},
   "outputs": [
    {
     "name": "stdout",
     "output_type": "stream",
     "text": [
      "Unique Customers: 10\n",
      "Unique Products: 10\n"
     ]
    }
   ],
   "source": [
    "unique_customers = customer_data[\"CustomerID\"].nunique()\n",
    "unique_products = customer_data[\"ProductID\"].nunique()\n",
    "\n",
    "print(f\"Unique Customers: {unique_customers}\")\n",
    "print(f\"Unique Products: {unique_products}\")\n"
   ]
  },
  {
   "cell_type": "code",
   "execution_count": 6,
   "id": "0fa69ce4",
   "metadata": {},
   "outputs": [
    {
     "name": "stdout",
     "output_type": "stream",
     "text": [
      "   CustomerID  Gender  Age  ProductID  PurchaseAmount\n",
      "0           1  Female   28        101           42.50\n",
      "2           3  Female   45        103           17.80\n",
      "4           5  Female   22        105          157.50\n",
      "6           7  Female   33        107           26.25\n",
      "8           9  Female   29        109            8.90\n"
     ]
    }
   ],
   "source": [
    "female_customers = customer_data[customer_data[\"Gender\"] == \"Female\"]\n",
    "print(female_customers)\n"
   ]
  },
  {
   "cell_type": "code",
   "execution_count": 7,
   "id": "f0ab5bea",
   "metadata": {},
   "outputs": [
    {
     "name": "stdout",
     "output_type": "stream",
     "text": [
      "Average age of male customers: 39.00\n",
      "Average age of female customers: 31.40\n"
     ]
    }
   ],
   "source": [
    "average_age_male = customer_data[customer_data[\"Gender\"] == \"Male\"][\"Age\"].mean()\n",
    "average_age_female = customer_data[customer_data[\"Gender\"] == \"Female\"][\"Age\"].mean()\n",
    "\n",
    "print(f\"Average age of male customers: {average_age_male:.2f}\")\n",
    "print(f\"Average age of female customers: {average_age_female:.2f}\")\n"
   ]
  },
  {
   "cell_type": "code",
   "execution_count": 8,
   "id": "e25ec689",
   "metadata": {},
   "outputs": [
    {
     "name": "stdout",
     "output_type": "stream",
     "text": [
      "Total Purchase Amount: 552.90\n"
     ]
    }
   ],
   "source": [
    "total_purchase_amount = customer_data[\"PurchaseAmount\"].sum()\n",
    "print(f\"Total Purchase Amount: {total_purchase_amount:.2f}\")\n"
   ]
  },
  {
   "cell_type": "code",
   "execution_count": 9,
   "id": "42828bb7",
   "metadata": {},
   "outputs": [
    {
     "name": "stdout",
     "output_type": "stream",
     "text": [
      "The most purchased product is: 101\n"
     ]
    }
   ],
   "source": [
    "most_purchased_product = customer_data[\"ProductID\"].value_counts().idxmax()\n",
    "print(f\"The most purchased product is: {most_purchased_product}\")\n"
   ]
  },
  {
   "cell_type": "code",
   "execution_count": 10,
   "id": "2775ecad",
   "metadata": {},
   "outputs": [
    {
     "name": "stdout",
     "output_type": "stream",
     "text": [
      "AgeGroup\n",
      "18-25    157.500000\n",
      "26-35     25.712500\n",
      "36-45     79.666667\n",
      "46-55     26.775000\n",
      "Name: PurchaseAmount, dtype: float64\n"
     ]
    }
   ],
   "source": [
    "# Define age bins and labels\n",
    "age_bins = [18, 25, 35, 45, 55]\n",
    "age_labels = [\"18-25\", \"26-35\", \"36-45\", \"46-55\"]\n",
    "\n",
    "# Add a new column for age groups\n",
    "customer_data[\"AgeGroup\"] = pd.cut(customer_data[\"Age\"], bins=age_bins, labels=age_labels, right=False)\n",
    "\n",
    "# Calculate the average purchase amount for each age group\n",
    "age_group_analysis = customer_data.groupby(\"AgeGroup\")[\"PurchaseAmount\"].mean()\n",
    "print(age_group_analysis)\n"
   ]
  },
  {
   "cell_type": "code",
   "execution_count": 11,
   "id": "806754e1",
   "metadata": {},
   "outputs": [
    {
     "data": {
      "image/png": "[encoded data removed]",
      "text/plain": [
       "<Figure size 800x500 with 1 Axes>"
      ]
     },
     "metadata": {},
     "output_type": "display_data"
    }
   ],
   "source": [
    "import matplotlib.pyplot as plt\n",
    "\n",
    "# Plot the bar chart\n",
    "age_group_analysis.plot(kind=\"bar\", color=\"skyblue\", figsize=(8, 5))\n",
    "\n",
    "plt.title(\"Average Purchase Amount by Age Group\")\n",
    "plt.xlabel(\"Age Group\")\n",
    "plt.ylabel(\"Average Purchase Amount\")\n",
    "plt.xticks(rotation=0)\n",
    "plt.grid(axis='y', linestyle='--', alpha=0.7)\n",
    "plt.show()\n"
   ]
  },
  {
   "cell_type": "code",
   "execution_count": null,
   "id": "935b6837",
   "metadata": {},
   "outputs": [],
   "source": []
  }
 ],
 "metadata": {
  "kernelspec": {
   "display_name": "Python 3 (ipykernel)",
   "language": "python",
   "name": "python3"
  },
  "language_info": {
   "codemirror_mode": {
    "name": "ipython",
    "version": 3
   },
   "file_extension": ".py",
   "mimetype": "text/x-python",
   "name": "python",
   "nbconvert_exporter": "python",
   "pygments_lexer": "ipython3",
   "version": "3.11.5"
  }
 },
 "nbformat": 4,
 "nbformat_minor": 5
}
